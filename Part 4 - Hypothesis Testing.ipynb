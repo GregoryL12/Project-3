{
 "cells": [
  {
   "cell_type": "code",
   "execution_count": 11,
   "id": "e2c50a11",
   "metadata": {},
   "outputs": [],
   "source": [
    "import pandas as pd\n",
    "import os, time,json\n",
    "import numpy as np\n",
    "import matplotlib.pyplot as plt\n",
    "import seaborn as sns\n",
    "import scipy.stats as stats\n",
    "from tqdm.notebook import tqdm_notebook"
   ]
  },
  {
   "cell_type": "code",
   "execution_count": 2,
   "id": "ea54d7fe",
   "metadata": {},
   "outputs": [
    {
     "data": {
      "text/plain": [
       "dict_keys(['api-key'])"
      ]
     },
     "execution_count": 2,
     "metadata": {},
     "output_type": "execute_result"
    }
   ],
   "source": [
    "with open('/Users/gleal/.secret/tmdb_api.json', 'r') as f:\n",
    "    login = json.load(f)\n",
    "## Display the keys of the loaded dict\n",
    "login.keys()"
   ]
  },
  {
   "cell_type": "code",
   "execution_count": 3,
   "id": "5d15e735",
   "metadata": {},
   "outputs": [],
   "source": [
    "import tmdbsimple as tmdb\n",
    "tmdb.API_KEY =  login['api-key']"
   ]
  },
  {
   "cell_type": "code",
   "execution_count": 13,
   "id": "a1c2bacb",
   "metadata": {},
   "outputs": [
    {
     "data": {
      "text/plain": [
       "['.ipynb_checkpoints',\n",
       " 'final_tmdbdata2000.csv.gz',\n",
       " 'final_tmdbdata2001.csv.gz',\n",
       " 'title_akas.csv.gz',\n",
       " 'title_basics.csv.gz',\n",
       " 'title_ratings.csv.gz',\n",
       " 'tmdb_apiresults2000.json',\n",
       " 'tmdb_apiresults2001.json',\n",
       " 'tmdb_results_combined.csv.gz']"
      ]
     },
     "execution_count": 13,
     "metadata": {},
     "output_type": "execute_result"
    }
   ],
   "source": [
    "FOLDER = \"Data/\"\n",
    "os.makedirs(FOLDER, exist_ok=True)\n",
    "os.listdir(FOLDER)"
   ]
  },
  {
   "cell_type": "code",
   "execution_count": 4,
   "id": "0bf3fc86",
   "metadata": {},
   "outputs": [],
   "source": [
    "def get_movie_with_rating(movie_id):\n",
    "    # Get the movie object for the current id\n",
    "    movie = tmdb.Movies(movie_id)\n",
    "    # save the .info .releases dictionaries\n",
    "    movie_info = movie.info()\n",
    "\n",
    "    releases = movie.releases()\n",
    "    # Loop through countries in releases\n",
    "    for c in releases['countries']:\n",
    "        # if the country abbreviation==US\n",
    "        if c['iso_3166_1' ] =='US':\n",
    "            ## save a \"certification\" key in the info dict with the certification\n",
    "            movie_info['certification'] = c['certification']\n",
    "    return movie_info"
   ]
  },
  {
   "cell_type": "code",
   "execution_count": 5,
   "id": "b70619f2",
   "metadata": {},
   "outputs": [],
   "source": [
    "def write_json(new_data, filename): \n",
    "    \"\"\"Adapted from: https://www.geeksforgeeks.org/append-to-json-file-using-python/\"\"\"\n",
    "\n",
    "    with open(filename,'r+') as file:\n",
    "        # First we load existing data into a dict.\n",
    "        file_data = json.load(file)\n",
    "        ## Choose extend or append\n",
    "        if (type(new_data) == list) & (type(file_data) == list):\n",
    "            file_data.extend(new_data)\n",
    "        else:\n",
    "             file_data.append(new_data)\n",
    "        # Sets file's current position at offset.\n",
    "        file.seek(0)\n",
    "        # convert back to json.\n",
    "        json.dump(file_data, file)"
   ]
  },
  {
   "cell_type": "code",
   "execution_count": 7,
   "id": "099595d7",
   "metadata": {},
   "outputs": [
    {
     "data": {
      "text/html": [
       "<div>\n",
       "<style scoped>\n",
       "    .dataframe tbody tr th:only-of-type {\n",
       "        vertical-align: middle;\n",
       "    }\n",
       "\n",
       "    .dataframe tbody tr th {\n",
       "        vertical-align: top;\n",
       "    }\n",
       "\n",
       "    .dataframe thead th {\n",
       "        text-align: right;\n",
       "    }\n",
       "</style>\n",
       "<table border=\"1\" class=\"dataframe\">\n",
       "  <thead>\n",
       "    <tr style=\"text-align: right;\">\n",
       "      <th></th>\n",
       "      <th>tconst</th>\n",
       "      <th>titleType</th>\n",
       "      <th>primaryTitle</th>\n",
       "      <th>originalTitle</th>\n",
       "      <th>isAdult</th>\n",
       "      <th>startYear</th>\n",
       "      <th>endYear</th>\n",
       "      <th>runtimeMinutes</th>\n",
       "      <th>genres</th>\n",
       "    </tr>\n",
       "  </thead>\n",
       "  <tbody>\n",
       "    <tr>\n",
       "      <th>0</th>\n",
       "      <td>tt0035423</td>\n",
       "      <td>movie</td>\n",
       "      <td>Kate &amp; Leopold</td>\n",
       "      <td>Kate &amp; Leopold</td>\n",
       "      <td>0</td>\n",
       "      <td>2001.0</td>\n",
       "      <td>NaN</td>\n",
       "      <td>118</td>\n",
       "      <td>Comedy,Fantasy,Romance</td>\n",
       "    </tr>\n",
       "    <tr>\n",
       "      <th>1</th>\n",
       "      <td>tt0062336</td>\n",
       "      <td>movie</td>\n",
       "      <td>The Tango of the Widower and Its Distorting Mi...</td>\n",
       "      <td>El tango del viudo y su espejo deformante</td>\n",
       "      <td>0</td>\n",
       "      <td>2020.0</td>\n",
       "      <td>NaN</td>\n",
       "      <td>70</td>\n",
       "      <td>Drama</td>\n",
       "    </tr>\n",
       "    <tr>\n",
       "      <th>2</th>\n",
       "      <td>tt0068865</td>\n",
       "      <td>movie</td>\n",
       "      <td>Lives of Performers</td>\n",
       "      <td>Lives of Performers</td>\n",
       "      <td>0</td>\n",
       "      <td>2016.0</td>\n",
       "      <td>NaN</td>\n",
       "      <td>90</td>\n",
       "      <td>Drama</td>\n",
       "    </tr>\n",
       "    <tr>\n",
       "      <th>3</th>\n",
       "      <td>tt0069049</td>\n",
       "      <td>movie</td>\n",
       "      <td>The Other Side of the Wind</td>\n",
       "      <td>The Other Side of the Wind</td>\n",
       "      <td>0</td>\n",
       "      <td>2018.0</td>\n",
       "      <td>NaN</td>\n",
       "      <td>122</td>\n",
       "      <td>Drama</td>\n",
       "    </tr>\n",
       "    <tr>\n",
       "      <th>4</th>\n",
       "      <td>tt0088751</td>\n",
       "      <td>movie</td>\n",
       "      <td>The Naked Monster</td>\n",
       "      <td>The Naked Monster</td>\n",
       "      <td>0</td>\n",
       "      <td>2005.0</td>\n",
       "      <td>NaN</td>\n",
       "      <td>100</td>\n",
       "      <td>Comedy,Horror,Sci-Fi</td>\n",
       "    </tr>\n",
       "  </tbody>\n",
       "</table>\n",
       "</div>"
      ],
      "text/plain": [
       "      tconst titleType                                       primaryTitle  \\\n",
       "0  tt0035423     movie                                     Kate & Leopold   \n",
       "1  tt0062336     movie  The Tango of the Widower and Its Distorting Mi...   \n",
       "2  tt0068865     movie                                Lives of Performers   \n",
       "3  tt0069049     movie                         The Other Side of the Wind   \n",
       "4  tt0088751     movie                                  The Naked Monster   \n",
       "\n",
       "                               originalTitle  isAdult  startYear  endYear  \\\n",
       "0                             Kate & Leopold        0     2001.0      NaN   \n",
       "1  El tango del viudo y su espejo deformante        0     2020.0      NaN   \n",
       "2                        Lives of Performers        0     2016.0      NaN   \n",
       "3                 The Other Side of the Wind        0     2018.0      NaN   \n",
       "4                          The Naked Monster        0     2005.0      NaN   \n",
       "\n",
       "   runtimeMinutes                  genres  \n",
       "0             118  Comedy,Fantasy,Romance  \n",
       "1              70                   Drama  \n",
       "2              90                   Drama  \n",
       "3             122                   Drama  \n",
       "4             100    Comedy,Horror,Sci-Fi  "
      ]
     },
     "execution_count": 7,
     "metadata": {},
     "output_type": "execute_result"
    }
   ],
   "source": [
    "basics = pd.read_csv(\"Data/title_basics.csv.gz\", low_memory = False)\n",
    "basics.head()"
   ]
  },
  {
   "cell_type": "markdown",
   "id": "8d3deac5",
   "metadata": {},
   "source": [
    "### Because of the example hypothesis i chose I will use years 2018 and 2020"
   ]
  },
  {
   "cell_type": "code",
   "execution_count": 8,
   "id": "8d92958f",
   "metadata": {},
   "outputs": [],
   "source": [
    "YEARS_TO_GET = [2018,2020]"
   ]
  },
  {
   "cell_type": "code",
   "execution_count": 9,
   "id": "e327c253",
   "metadata": {},
   "outputs": [],
   "source": [
    "errors = [ ]"
   ]
  },
  {
   "cell_type": "code",
   "execution_count": 14,
   "id": "1c488675",
   "metadata": {},
   "outputs": [
    {
     "data": {
      "application/vnd.jupyter.widget-view+json": {
       "model_id": "d37d7f32a1144dcd84a210f0f6f9607b",
       "version_major": 2,
       "version_minor": 0
      },
      "text/plain": [
       "YEARS:   0%|          | 0/2 [00:00<?, ?it/s]"
      ]
     },
     "metadata": {},
     "output_type": "display_data"
    },
    {
     "data": {
      "application/vnd.jupyter.widget-view+json": {
       "model_id": "2977ddc70e7d473abf0ce2be9cb7facc",
       "version_major": 2,
       "version_minor": 0
      },
      "text/plain": [
       "Movies from 2018:   0%|          | 0/5786 [00:00<?, ?it/s]"
      ]
     },
     "metadata": {},
     "output_type": "display_data"
    },
    {
     "data": {
      "application/vnd.jupyter.widget-view+json": {
       "model_id": "3801718ba454485787a489dd0ee6d407",
       "version_major": 2,
       "version_minor": 0
      },
      "text/plain": [
       "Movies from 2020:   0%|          | 0/5010 [00:00<?, ?it/s]"
      ]
     },
     "metadata": {},
     "output_type": "display_data"
    }
   ],
   "source": [
    "for YEAR in tqdm_notebook(YEARS_TO_GET,desc='YEARS',\n",
    "                          position=0):\n",
    "    #Defining the JSON file to store results for year\n",
    "    JSON_FILE = f'{FOLDER}tmdb_apiresults{YEAR}.json'\n",
    "\n",
    "    # Check if file exists\n",
    "    file_exists = os.path.isfile(JSON_FILE)\n",
    "\n",
    "\n",
    "    # If it does not exist: create it\n",
    "    if file_exists == False:\n",
    "    # save an empty dict with just \"imdb_id\" to the new json file.\n",
    "        with open(JSON_FILE,'w') as f:\n",
    "            json.dump([{'imdb_id':0}],f)\n",
    "\n",
    "\n",
    "\n",
    "    #Saving new year as the current df\n",
    "    df = basics.loc[ basics['startYear']==YEAR].copy()\n",
    "    # saving movie ids to list\n",
    "    movie_ids = df['tconst'].copy()#.to_list()\n",
    "\n",
    "\n",
    "    # Load existing data from json into a dataframe called \"previous_df\"\n",
    "    previous_df = pd.read_json(JSON_FILE)\n",
    "\n",
    "\n",
    "    # filter out any ids that are already in the JSON_FILE\n",
    "    movie_ids_to_get = movie_ids[~movie_ids.isin(previous_df['imdb_id'])]\n",
    "\n",
    "\n",
    "    #Get index and movie id from list\n",
    "    # INNER Loop\n",
    "    for movie_id in tqdm_notebook(movie_ids_to_get,\n",
    "                                  desc=f'Movies from {YEAR}',\n",
    "                                  position=1,\n",
    "                                  leave=True):\n",
    "        # Attempt to retrieve then data for the movie id\n",
    "        try:\n",
    "            temp = get_movie_with_rating(movie_id)  #This uses your pre-made function\n",
    "            # Append/extend results to existing file using a pre-made function\n",
    "            write_json(temp,JSON_FILE)\n",
    "            # Short 20 ms sleep to prevent overwhelming server\n",
    "            time.sleep(0.02)\n",
    "\n",
    "        # If it fails,  make a dict with just the id and None for certification.\n",
    "        except Exception as e:\n",
    "            errors.append([movie_id, e])\n",
    "\n",
    "\n",
    "    final_year_df = pd.read_json(JSON_FILE)\n",
    "    final_year_df.to_csv(f\"{FOLDER}final_tmdbdata{YEAR}.csv.gz\", compression=\"gzip\", index=False)"
   ]
  },
  {
   "cell_type": "code",
   "execution_count": 19,
   "id": "cac9eb2f",
   "metadata": {},
   "outputs": [
    {
     "data": {
      "text/plain": [
       "['Data\\\\final_tmdbdata2000.csv.gz',\n",
       " 'Data\\\\final_tmdbdata2001.csv.gz',\n",
       " 'Data\\\\final_tmdbdata2018.csv.gz',\n",
       " 'Data\\\\final_tmdbdata2020.csv.gz']"
      ]
     },
     "execution_count": 19,
     "metadata": {},
     "output_type": "execute_result"
    }
   ],
   "source": [
    "import glob\n",
    "q = \"Data/final_tmdbdata*.csv.gz\"\n",
    "year_files = sorted(glob.glob(q))\n",
    "year_files"
   ]
  },
  {
   "cell_type": "code",
   "execution_count": 20,
   "id": "f5ae2f21",
   "metadata": {},
   "outputs": [],
   "source": [
    "## Loading and Concatenating the list of dfs with 1 line\n",
    "df_combined = pd.concat([pd.read_csv(file, index_col=0) for file in year_files])"
   ]
  },
  {
   "cell_type": "code",
   "execution_count": 21,
   "id": "c1f7974c",
   "metadata": {},
   "outputs": [],
   "source": [
    "## Saving the final combined dataframe\n",
    "final_fname ='Data/final_tmdb_combined.csv.gz'\n",
    "df_combined.to_csv(final_fname, compression='gzip', index=False)"
   ]
  },
  {
   "cell_type": "code",
   "execution_count": 22,
   "id": "3e95eb5e",
   "metadata": {},
   "outputs": [
    {
     "data": {
      "text/html": [
       "<div>\n",
       "<style scoped>\n",
       "    .dataframe tbody tr th:only-of-type {\n",
       "        vertical-align: middle;\n",
       "    }\n",
       "\n",
       "    .dataframe tbody tr th {\n",
       "        vertical-align: top;\n",
       "    }\n",
       "\n",
       "    .dataframe thead th {\n",
       "        text-align: right;\n",
       "    }\n",
       "</style>\n",
       "<table border=\"1\" class=\"dataframe\">\n",
       "  <thead>\n",
       "    <tr style=\"text-align: right;\">\n",
       "      <th></th>\n",
       "      <th>adult</th>\n",
       "      <th>backdrop_path</th>\n",
       "      <th>belongs_to_collection</th>\n",
       "      <th>budget</th>\n",
       "      <th>genres</th>\n",
       "      <th>homepage</th>\n",
       "      <th>id</th>\n",
       "      <th>original_language</th>\n",
       "      <th>original_title</th>\n",
       "      <th>overview</th>\n",
       "      <th>...</th>\n",
       "      <th>revenue</th>\n",
       "      <th>runtime</th>\n",
       "      <th>spoken_languages</th>\n",
       "      <th>status</th>\n",
       "      <th>tagline</th>\n",
       "      <th>title</th>\n",
       "      <th>video</th>\n",
       "      <th>vote_average</th>\n",
       "      <th>vote_count</th>\n",
       "      <th>certification</th>\n",
       "    </tr>\n",
       "  </thead>\n",
       "  <tbody>\n",
       "    <tr>\n",
       "      <th>0</th>\n",
       "      <td>NaN</td>\n",
       "      <td>NaN</td>\n",
       "      <td>NaN</td>\n",
       "      <td>NaN</td>\n",
       "      <td>NaN</td>\n",
       "      <td>NaN</td>\n",
       "      <td>NaN</td>\n",
       "      <td>NaN</td>\n",
       "      <td>NaN</td>\n",
       "      <td>NaN</td>\n",
       "      <td>...</td>\n",
       "      <td>NaN</td>\n",
       "      <td>NaN</td>\n",
       "      <td>NaN</td>\n",
       "      <td>NaN</td>\n",
       "      <td>NaN</td>\n",
       "      <td>NaN</td>\n",
       "      <td>NaN</td>\n",
       "      <td>NaN</td>\n",
       "      <td>NaN</td>\n",
       "      <td>NaN</td>\n",
       "    </tr>\n",
       "    <tr>\n",
       "      <th>1</th>\n",
       "      <td>0.0</td>\n",
       "      <td>/vMFs7nw6P0bIV1jDsQpxAieAVnH.jpg</td>\n",
       "      <td>NaN</td>\n",
       "      <td>10000000.0</td>\n",
       "      <td>[{'id': 35, 'name': 'Comedy'}, {'id': 10402, '...</td>\n",
       "      <td>NaN</td>\n",
       "      <td>62127.0</td>\n",
       "      <td>en</td>\n",
       "      <td>The Fantasticks</td>\n",
       "      <td>Two rural teens sing and dance their way throu...</td>\n",
       "      <td>...</td>\n",
       "      <td>0.0</td>\n",
       "      <td>86.0</td>\n",
       "      <td>[{'english_name': 'English', 'iso_639_1': 'en'...</td>\n",
       "      <td>Released</td>\n",
       "      <td>Try to remember the first time magic happened</td>\n",
       "      <td>The Fantasticks</td>\n",
       "      <td>0.0</td>\n",
       "      <td>5.50</td>\n",
       "      <td>22.0</td>\n",
       "      <td>NaN</td>\n",
       "    </tr>\n",
       "    <tr>\n",
       "      <th>2</th>\n",
       "      <td>0.0</td>\n",
       "      <td>NaN</td>\n",
       "      <td>NaN</td>\n",
       "      <td>0.0</td>\n",
       "      <td>[{'id': 878, 'name': 'Science Fiction'}]</td>\n",
       "      <td>NaN</td>\n",
       "      <td>110977.0</td>\n",
       "      <td>en</td>\n",
       "      <td>For the Cause</td>\n",
       "      <td>Earth is in a state of constant war and two co...</td>\n",
       "      <td>...</td>\n",
       "      <td>0.0</td>\n",
       "      <td>100.0</td>\n",
       "      <td>[{'english_name': 'English', 'iso_639_1': 'en'...</td>\n",
       "      <td>Released</td>\n",
       "      <td>The ultimate showdown on a forbidden planet.</td>\n",
       "      <td>For the Cause</td>\n",
       "      <td>0.0</td>\n",
       "      <td>5.45</td>\n",
       "      <td>10.0</td>\n",
       "      <td>NaN</td>\n",
       "    </tr>\n",
       "    <tr>\n",
       "      <th>3</th>\n",
       "      <td>0.0</td>\n",
       "      <td>NaN</td>\n",
       "      <td>NaN</td>\n",
       "      <td>0.0</td>\n",
       "      <td>[{'id': 18, 'name': 'Drama'}, {'id': 28, 'name...</td>\n",
       "      <td>NaN</td>\n",
       "      <td>442869.0</td>\n",
       "      <td>hi</td>\n",
       "      <td>Gang</td>\n",
       "      <td>After falling prey to underworld, four friends...</td>\n",
       "      <td>...</td>\n",
       "      <td>0.0</td>\n",
       "      <td>152.0</td>\n",
       "      <td>[{'english_name': 'Hindi', 'iso_639_1': 'hi', ...</td>\n",
       "      <td>Released</td>\n",
       "      <td>NaN</td>\n",
       "      <td>Gang</td>\n",
       "      <td>0.0</td>\n",
       "      <td>4.00</td>\n",
       "      <td>1.0</td>\n",
       "      <td>NaN</td>\n",
       "    </tr>\n",
       "    <tr>\n",
       "      <th>4</th>\n",
       "      <td>0.0</td>\n",
       "      <td>/n4GJFGzsc7NinI1VeGDXIcQjtU2.jpg</td>\n",
       "      <td>NaN</td>\n",
       "      <td>150000.0</td>\n",
       "      <td>[{'id': 18, 'name': 'Drama'}, {'id': 10749, 'n...</td>\n",
       "      <td>NaN</td>\n",
       "      <td>843.0</td>\n",
       "      <td>cn</td>\n",
       "      <td>花樣年華</td>\n",
       "      <td>Two neighbors become intimate after discoverin...</td>\n",
       "      <td>...</td>\n",
       "      <td>14204632.0</td>\n",
       "      <td>99.0</td>\n",
       "      <td>[{'english_name': 'Cantonese', 'iso_639_1': 'c...</td>\n",
       "      <td>Released</td>\n",
       "      <td>Feel the heat, keep the feeling burning, let t...</td>\n",
       "      <td>In the Mood for Love</td>\n",
       "      <td>0.0</td>\n",
       "      <td>8.11</td>\n",
       "      <td>2282.0</td>\n",
       "      <td>PG</td>\n",
       "    </tr>\n",
       "  </tbody>\n",
       "</table>\n",
       "<p>5 rows × 25 columns</p>\n",
       "</div>"
      ],
      "text/plain": [
       "   adult                     backdrop_path belongs_to_collection      budget  \\\n",
       "0    NaN                               NaN                   NaN         NaN   \n",
       "1    0.0  /vMFs7nw6P0bIV1jDsQpxAieAVnH.jpg                   NaN  10000000.0   \n",
       "2    0.0                               NaN                   NaN         0.0   \n",
       "3    0.0                               NaN                   NaN         0.0   \n",
       "4    0.0  /n4GJFGzsc7NinI1VeGDXIcQjtU2.jpg                   NaN    150000.0   \n",
       "\n",
       "                                              genres homepage        id  \\\n",
       "0                                                NaN      NaN       NaN   \n",
       "1  [{'id': 35, 'name': 'Comedy'}, {'id': 10402, '...      NaN   62127.0   \n",
       "2           [{'id': 878, 'name': 'Science Fiction'}]      NaN  110977.0   \n",
       "3  [{'id': 18, 'name': 'Drama'}, {'id': 28, 'name...      NaN  442869.0   \n",
       "4  [{'id': 18, 'name': 'Drama'}, {'id': 10749, 'n...      NaN     843.0   \n",
       "\n",
       "  original_language   original_title  \\\n",
       "0               NaN              NaN   \n",
       "1                en  The Fantasticks   \n",
       "2                en    For the Cause   \n",
       "3                hi             Gang   \n",
       "4                cn             花樣年華   \n",
       "\n",
       "                                            overview  ...     revenue runtime  \\\n",
       "0                                                NaN  ...         NaN     NaN   \n",
       "1  Two rural teens sing and dance their way throu...  ...         0.0    86.0   \n",
       "2  Earth is in a state of constant war and two co...  ...         0.0   100.0   \n",
       "3  After falling prey to underworld, four friends...  ...         0.0   152.0   \n",
       "4  Two neighbors become intimate after discoverin...  ...  14204632.0    99.0   \n",
       "\n",
       "                                    spoken_languages    status  \\\n",
       "0                                                NaN       NaN   \n",
       "1  [{'english_name': 'English', 'iso_639_1': 'en'...  Released   \n",
       "2  [{'english_name': 'English', 'iso_639_1': 'en'...  Released   \n",
       "3  [{'english_name': 'Hindi', 'iso_639_1': 'hi', ...  Released   \n",
       "4  [{'english_name': 'Cantonese', 'iso_639_1': 'c...  Released   \n",
       "\n",
       "                                             tagline                 title  \\\n",
       "0                                                NaN                   NaN   \n",
       "1      Try to remember the first time magic happened       The Fantasticks   \n",
       "2       The ultimate showdown on a forbidden planet.         For the Cause   \n",
       "3                                                NaN                  Gang   \n",
       "4  Feel the heat, keep the feeling burning, let t...  In the Mood for Love   \n",
       "\n",
       "   video vote_average vote_count certification  \n",
       "0    NaN          NaN        NaN           NaN  \n",
       "1    0.0         5.50       22.0           NaN  \n",
       "2    0.0         5.45       10.0           NaN  \n",
       "3    0.0         4.00        1.0           NaN  \n",
       "4    0.0         8.11     2282.0            PG  \n",
       "\n",
       "[5 rows x 25 columns]"
      ]
     },
     "execution_count": 22,
     "metadata": {},
     "output_type": "execute_result"
    }
   ],
   "source": [
    "df_combined = pd.read_csv(final_fname)\n",
    "df_combined.head()"
   ]
  },
  {
   "cell_type": "code",
   "execution_count": 23,
   "id": "f4669e91",
   "metadata": {},
   "outputs": [
    {
     "data": {
      "text/html": [
       "<div>\n",
       "<style scoped>\n",
       "    .dataframe tbody tr th:only-of-type {\n",
       "        vertical-align: middle;\n",
       "    }\n",
       "\n",
       "    .dataframe tbody tr th {\n",
       "        vertical-align: top;\n",
       "    }\n",
       "\n",
       "    .dataframe thead th {\n",
       "        text-align: right;\n",
       "    }\n",
       "</style>\n",
       "<table border=\"1\" class=\"dataframe\">\n",
       "  <thead>\n",
       "    <tr style=\"text-align: right;\">\n",
       "      <th></th>\n",
       "      <th>revenue</th>\n",
       "      <th>certification</th>\n",
       "    </tr>\n",
       "  </thead>\n",
       "  <tbody>\n",
       "    <tr>\n",
       "      <th>4</th>\n",
       "      <td>14204632.0</td>\n",
       "      <td>PG</td>\n",
       "    </tr>\n",
       "    <tr>\n",
       "      <th>5</th>\n",
       "      <td>0.0</td>\n",
       "      <td>R</td>\n",
       "    </tr>\n",
       "    <tr>\n",
       "      <th>6</th>\n",
       "      <td>0.0</td>\n",
       "      <td>R</td>\n",
       "    </tr>\n",
       "    <tr>\n",
       "      <th>7</th>\n",
       "      <td>0.0</td>\n",
       "      <td>R</td>\n",
       "    </tr>\n",
       "    <tr>\n",
       "      <th>11</th>\n",
       "      <td>14904.0</td>\n",
       "      <td>R</td>\n",
       "    </tr>\n",
       "  </tbody>\n",
       "</table>\n",
       "</div>"
      ],
      "text/plain": [
       "       revenue certification\n",
       "4   14204632.0            PG\n",
       "5          0.0             R\n",
       "6          0.0             R\n",
       "7          0.0             R\n",
       "11     14904.0             R"
      ]
     },
     "execution_count": 23,
     "metadata": {},
     "output_type": "execute_result"
    }
   ],
   "source": [
    "df_combined = df_combined[['revenue', 'certification']]\n",
    "df_combined = df_combined.dropna(subset = 'certification')\n",
    "df_combined.head()"
   ]
  },
  {
   "cell_type": "code",
   "execution_count": 27,
   "id": "a52471a6",
   "metadata": {},
   "outputs": [
    {
     "data": {
      "image/png": "[encoded data removed]",
      "text/plain": [
       "<Figure size 640x480 with 1 Axes>"
      ]
     },
     "metadata": {},
     "output_type": "display_data"
    }
   ],
   "source": [
    "sns.barplot(data=df_combined, y='revenue', x='certification', ci=68);"
   ]
  },
  {
   "cell_type": "code",
   "execution_count": 28,
   "id": "ebf01add",
   "metadata": {},
   "outputs": [
    {
     "data": {
      "text/html": [
       "<div>\n",
       "<style scoped>\n",
       "    .dataframe tbody tr th:only-of-type {\n",
       "        vertical-align: middle;\n",
       "    }\n",
       "\n",
       "    .dataframe tbody tr th {\n",
       "        vertical-align: top;\n",
       "    }\n",
       "\n",
       "    .dataframe thead th {\n",
       "        text-align: right;\n",
       "    }\n",
       "</style>\n",
       "<table border=\"1\" class=\"dataframe\">\n",
       "  <thead>\n",
       "    <tr style=\"text-align: right;\">\n",
       "      <th></th>\n",
       "      <th>revenue</th>\n",
       "      <th>certification</th>\n",
       "    </tr>\n",
       "  </thead>\n",
       "  <tbody>\n",
       "    <tr>\n",
       "      <th>486</th>\n",
       "      <td>0.0</td>\n",
       "      <td>Unrated</td>\n",
       "    </tr>\n",
       "  </tbody>\n",
       "</table>\n",
       "</div>"
      ],
      "text/plain": [
       "     revenue certification\n",
       "486      0.0       Unrated"
      ]
     },
     "execution_count": 28,
     "metadata": {},
     "output_type": "execute_result"
    }
   ],
   "source": [
    "df_combined.loc[df_combined['certification']=='Unrated']"
   ]
  },
  {
   "cell_type": "code",
   "execution_count": 29,
   "id": "fdc74015",
   "metadata": {},
   "outputs": [],
   "source": [
    "df_combined = df_combined.drop(index=483)"
   ]
  },
  {
   "cell_type": "markdown",
   "id": "7e27267b",
   "metadata": {},
   "source": [
    "# The First Test\n",
    "\n",
    "### Does the MPAA rating of a movie (G/PG/PG-13/R) affect how much revenue the movie generates?"
   ]
  },
  {
   "cell_type": "markdown",
   "id": "1d6a7afc",
   "metadata": {},
   "source": [
    "## State the null and alternative hypotheses."
   ]
  },
  {
   "cell_type": "markdown",
   "id": "47f13d97",
   "metadata": {},
   "source": [
    "Null Hypothesis: The MPAA rating does not have any effect on the revenue of a movie.\n",
    "\n",
    "Alternate Hypothesis:The MPAA rating has a significant effect on the revenue of a movie.\n",
    "\n",
    "alpha= 0.05"
   ]
  },
  {
   "cell_type": "markdown",
   "id": "c3af858c",
   "metadata": {},
   "source": [
    "## Choose the appropriate hypothesis test"
   ]
  },
  {
   "cell_type": "markdown",
   "id": "36f2aa52",
   "metadata": {},
   "source": [
    "1. Numeric Quantity\n",
    "\n",
    "2. Comparing more than 2 groups\n",
    "\n",
    "3. One Way Anova"
   ]
  },
  {
   "cell_type": "markdown",
   "id": "dab8b934",
   "metadata": {},
   "source": [
    "## Check and address the assumptions for the test"
   ]
  },
  {
   "cell_type": "markdown",
   "id": "1df6fd6e",
   "metadata": {},
   "source": [
    "1. No significant outliers\n",
    "\n",
    "2. Normality\n",
    "\n",
    "3. Equal Variance"
   ]
  },
  {
   "cell_type": "code",
   "execution_count": 32,
   "id": "c5d8cbc3",
   "metadata": {},
   "outputs": [
    {
     "data": {
      "text/plain": [
       "dict_keys(['PG', 'R', 'G', 'NR', 'PG-13', 'Unrated', 'NC-17'])"
      ]
     },
     "execution_count": 32,
     "metadata": {},
     "output_type": "execute_result"
    }
   ],
   "source": [
    "groups = {}\n",
    "## Loop through all unique categories\n",
    "for i in df_combined['certification'].unique():\n",
    "    ## Get series for group and rename\n",
    "    data = df_combined.loc[df_combined['certification']==i,'revenue'].copy()\n",
    "    \n",
    "    # save into the dictionary\n",
    "    groups[i] = data\n",
    "groups.keys()"
   ]
  },
  {
   "cell_type": "code",
   "execution_count": 33,
   "id": "7e210d98",
   "metadata": {},
   "outputs": [
    {
     "data": {
      "text/plain": [
       "R          1024\n",
       "NR          577\n",
       "PG-13       488\n",
       "PG          212\n",
       "G            81\n",
       "NC-17        27\n",
       "Unrated       1\n",
       "Name: certification, dtype: int64"
      ]
     },
     "execution_count": 33,
     "metadata": {},
     "output_type": "execute_result"
    }
   ],
   "source": [
    "df_combined['certification'].value_counts()"
   ]
  },
  {
   "cell_type": "code",
   "execution_count": 34,
   "id": "10ebbeeb",
   "metadata": {},
   "outputs": [],
   "source": [
    "R = groups['R']\n",
    "NR = groups['NR']\n",
    "PG13 = groups['PG-13']\n",
    "PG = groups['PG']\n",
    "G = groups['G']\n",
    "NC17 = groups['NC-17']"
   ]
  },
  {
   "cell_type": "markdown",
   "id": "69ec2361",
   "metadata": {},
   "source": [
    "Since groups have n>15 we can ignore the assumption of normality"
   ]
  },
  {
   "cell_type": "code",
   "execution_count": 35,
   "id": "1774dc71",
   "metadata": {},
   "outputs": [
    {
     "name": "stdout",
     "output_type": "stream",
     "text": [
      "18\n",
      "7\n",
      "10\n",
      "6\n",
      "1\n",
      "1\n"
     ]
    }
   ],
   "source": [
    "# checking outliers for each group\n",
    "R_outliers = np.abs(stats.zscore(R))>3\n",
    "NR_outliers = np.abs(stats.zscore(NR))>3\n",
    "PG13_outliers = np.abs(stats.zscore(PG13))>3\n",
    "PG_outliers = np.abs(stats.zscore(PG))>3\n",
    "G_outliers = np.abs(stats.zscore(G))>3\n",
    "NC17_outliers = np.abs(stats.zscore(NC17))>3\n",
    "\n",
    "print(R_outliers.sum())\n",
    "print(NR_outliers.sum())\n",
    "print(PG13_outliers.sum())\n",
    "print(PG_outliers.sum())\n",
    "print(G_outliers.sum())\n",
    "print(NC17_outliers.sum())"
   ]
  },
  {
   "cell_type": "code",
   "execution_count": 36,
   "id": "259f0526",
   "metadata": {},
   "outputs": [],
   "source": [
    "# remove the outliers from each group\n",
    "R = R.loc[~R_outliers]\n",
    "NR = NR.loc[~NR_outliers]\n",
    "PG13 = PG13.loc[~PG13_outliers]\n",
    "PG = PG.loc[~PG_outliers]\n",
    "G = G.loc[~G_outliers]\n",
    "NC17 = NC17.loc[~NC17_outliers]"
   ]
  },
  {
   "cell_type": "code",
   "execution_count": 37,
   "id": "efb57696",
   "metadata": {},
   "outputs": [
    {
     "name": "stdout",
     "output_type": "stream",
     "text": [
      "LeveneResult(statistic=43.305996396499374, pvalue=7.802353840910374e-43)\n",
      "True\n"
     ]
    }
   ],
   "source": [
    "result = stats.levene(R, NR, PG13, PG, G, NC17)\n",
    "print(result)\n",
    "print(result.pvalue<.05)"
   ]
  },
  {
   "cell_type": "markdown",
   "id": "50096cdd",
   "metadata": {},
   "source": [
    "The p value score is less than 0.05 so I reject the null hyposthesis because the groups do not have equal variance.\n",
    "\n",
    "I will use stats.kruskal"
   ]
  },
  {
   "cell_type": "code",
   "execution_count": 38,
   "id": "3d7b5fb6",
   "metadata": {},
   "outputs": [
    {
     "name": "stdout",
     "output_type": "stream",
     "text": [
      "KruskalResult(statistic=268.5917662106319, pvalue=5.614855359911333e-56)\n"
     ]
    },
    {
     "data": {
      "text/plain": [
       "True"
      ]
     },
     "execution_count": 38,
     "metadata": {},
     "output_type": "execute_result"
    }
   ],
   "source": [
    "test_result = stats.kruskal(R, NR, PG13, PG, G, NC17)\n",
    "print(test_result)\n",
    "test_result.pvalue < .05"
   ]
  },
  {
   "cell_type": "markdown",
   "id": "7d89673b",
   "metadata": {},
   "source": [
    "This test shows a score of less than 0.05 so we reject the null hypothesis and support the alternative hypothesis which states that the MPAA rating has a significant effect on the revenue of a movie. "
   ]
  },
  {
   "cell_type": "code",
   "execution_count": 39,
   "id": "135b5171",
   "metadata": {},
   "outputs": [
    {
     "name": "stdout",
     "output_type": "stream",
     "text": [
      " The averge revenue movie with R certification was 7640230.11\n",
      " The averge revenue movie with NR certification was 338271.07\n",
      " The averge revenue movie with PG13 certification was 40613292.74\n",
      " The averge revenue movie with PG certification was 29727546.79\n",
      " The averge revenue movie with G certification was 16361706.81\n",
      " The averge revenue movie with NC17 certification was 0.00\n"
     ]
    }
   ],
   "source": [
    "print(f\" The averge revenue movie with R certification was {R.mean():.2f}\")\n",
    "print(f\" The averge revenue movie with NR certification was {NR.mean():.2f}\")\n",
    "print(f\" The averge revenue movie with PG13 certification was {PG13.mean():.2f}\")\n",
    "print(f\" The averge revenue movie with PG certification was {PG.mean():.2f}\")\n",
    "print(f\" The averge revenue movie with G certification was {G.mean():.2f}\")\n",
    "print(f\" The averge revenue movie with NC17 certification was {NC17.mean():.2f}\")"
   ]
  },
  {
   "cell_type": "code",
   "execution_count": 46,
   "id": "227c32ad",
   "metadata": {},
   "outputs": [],
   "source": [
    "from statsmodels.stats.multicomp import pairwise_tukeyhsd\n",
    "## save the values as revenue and the labels to the certification\n",
    "values = df_combined['revenue']\n",
    "labels = df_combined['certification']"
   ]
  },
  {
   "cell_type": "code",
   "execution_count": 47,
   "id": "5d91ffbb",
   "metadata": {},
   "outputs": [
    {
     "data": {
      "text/html": [
       "<table class=\"simpletable\">\n",
       "<caption>Multiple Comparison of Means - Tukey HSD, FWER=0.05</caption>\n",
       "<tr>\n",
       "  <th>group1</th> <th>group2</th>     <th>meandiff</th>     <th>p-adj</th>      <th>lower</th>           <th>upper</th>     <th>reject</th>\n",
       "</tr>\n",
       "<tr>\n",
       "     <td>G</td>    <td>NC-17</td>  <td>-23316447.9383</td> <td>0.9322</td> <td>-86636884.6288</td>   <td>40003988.7522</td>  <td>False</td>\n",
       "</tr>\n",
       "<tr>\n",
       "     <td>G</td>     <td>NR</td>    <td>-21889896.1644</td> <td>0.4734</td> <td>-55699411.5584</td>   <td>11919619.2296</td>  <td>False</td>\n",
       "</tr>\n",
       "<tr>\n",
       "     <td>G</td>     <td>PG</td>     <td>25728253.5551</td> <td>0.3897</td>  <td>-11492039.254</td>   <td>62948546.3642</td>  <td>False</td>\n",
       "</tr>\n",
       "<tr>\n",
       "     <td>G</td>    <td>PG-13</td>   <td>36666869.9628</td> <td>0.0263</td>  <td>2479937.9851</td>    <td>70853801.9404</td>  <td>True</td> \n",
       "</tr>\n",
       "<tr>\n",
       "     <td>G</td>      <td>R</td>     <td>-9835728.6987</td> <td>0.9752</td> <td>-42724304.4271</td>   <td>23052847.0297</td>  <td>False</td>\n",
       "</tr>\n",
       "<tr>\n",
       "     <td>G</td>   <td>Unrated</td> <td>-23316596.0864</td>   <td>1.0</td>  <td>-310012066.7602</td> <td>263378874.5874</td>  <td>False</td>\n",
       "</tr>\n",
       "<tr>\n",
       "   <td>NC-17</td>   <td>NR</td>     <td>1426551.7739</td>    <td>1.0</td>   <td>-54678904.133</td>   <td>57532007.6807</td>  <td>False</td>\n",
       "</tr>\n",
       "<tr>\n",
       "   <td>NC-17</td>   <td>PG</td>     <td>49044701.4934</td> <td>0.1649</td>  <td>-9179769.7205</td>  <td>107269172.7072</td>  <td>False</td>\n",
       "</tr>\n",
       "<tr>\n",
       "   <td>NC-17</td>  <td>PG-13</td>   <td>59983317.901</td>  <td>0.0282</td>  <td>3649623.1049</td>   <td>116317012.6972</td>  <td>True</td> \n",
       "</tr>\n",
       "<tr>\n",
       "   <td>NC-17</td>    <td>R</td>     <td>13480719.2395</td> <td>0.9917</td> <td>-42074633.9209</td>    <td>69036072.4</td>    <td>False</td>\n",
       "</tr>\n",
       "<tr>\n",
       "   <td>NC-17</td> <td>Unrated</td>    <td>-148.1481</td>     <td>1.0</td>  <td>-290170842.3201</td> <td>290170546.0238</td>  <td>False</td>\n",
       "</tr>\n",
       "<tr>\n",
       "    <td>NR</td>     <td>PG</td>     <td>47618149.7195</td>   <td>0.0</td>   <td>24733773.4632</td>   <td>70502525.9758</td>  <td>True</td> \n",
       "</tr>\n",
       "<tr>\n",
       "    <td>NR</td>    <td>PG-13</td>   <td>58556766.1272</td>  <td>-0.0</td>   <td>41032759.7963</td>   <td>76080772.4581</td>  <td>True</td> \n",
       "</tr>\n",
       "<tr>\n",
       "    <td>NR</td>      <td>R</td>     <td>12054167.4657</td> <td>0.1997</td>  <td>-2778327.0407</td>   <td>26886661.9721</td>  <td>False</td>\n",
       "</tr>\n",
       "<tr>\n",
       "    <td>NR</td>   <td>Unrated</td>  <td>-1426699.922</td>    <td>1.0</td>  <td>-286615474.9198</td> <td>283762075.0758</td>  <td>False</td>\n",
       "</tr>\n",
       "<tr>\n",
       "    <td>PG</td>    <td>PG-13</td>   <td>10938616.4077</td> <td>0.8142</td> <td>-12499763.7306</td>   <td>34376996.5459</td>  <td>False</td>\n",
       "</tr>\n",
       "<tr>\n",
       "    <td>PG</td>      <td>R</td>    <td>-35563982.2538</td>   <td>0.0</td>  <td>-57064441.7582</td>  <td>-14063522.7494</td>  <td>True</td> \n",
       "</tr>\n",
       "<tr>\n",
       "    <td>PG</td>   <td>Unrated</td> <td>-49044849.6415</td> <td>0.9988</td> <td>-334658057.0573</td> <td>236568357.7743</td>  <td>False</td>\n",
       "</tr>\n",
       "<tr>\n",
       "   <td>PG-13</td>    <td>R</td>    <td>-46502598.6615</td>  <td>-0.0</td>  <td>-62176330.8318</td>  <td>-30828866.4911</td>  <td>True</td> \n",
       "</tr>\n",
       "<tr>\n",
       "   <td>PG-13</td> <td>Unrated</td> <td>-59983466.0492</td> <td>0.9962</td> <td>-345217230.4804</td>  <td>225250298.382</td>  <td>False</td>\n",
       "</tr>\n",
       "<tr>\n",
       "     <td>R</td>   <td>Unrated</td> <td>-13480867.3877</td>   <td>1.0</td>  <td>-298561930.3628</td> <td>271600195.5874</td>  <td>False</td>\n",
       "</tr>\n",
       "</table>"
      ],
      "text/plain": [
       "<class 'statsmodels.iolib.table.SimpleTable'>"
      ]
     },
     "execution_count": 47,
     "metadata": {},
     "output_type": "execute_result"
    }
   ],
   "source": [
    "tukeys_results = pairwise_tukeyhsd(values,labels)\n",
    "tukeys_results.summary()"
   ]
  },
  {
   "cell_type": "markdown",
   "id": "5b5cbcc9",
   "metadata": {},
   "source": [
    "## In Conclusion"
   ]
  },
  {
   "cell_type": "markdown",
   "id": "64457c59",
   "metadata": {},
   "source": [
    "The rating of PG13 has by far the highest average revenue earnings of any other certification."
   ]
  },
  {
   "cell_type": "markdown",
   "id": "f3fea879",
   "metadata": {},
   "source": [
    "# The Second Test\n",
    "\n",
    "### Do movies that are over 2.5 hours long earn more revenue than movies that are 1.5 hours long (or less)?"
   ]
  },
  {
   "cell_type": "markdown",
   "id": "ba04b542",
   "metadata": {},
   "source": [
    "## State the null and alternative hypotheses."
   ]
  },
  {
   "cell_type": "markdown",
   "id": "74f6dabc",
   "metadata": {},
   "source": [
    "Null Hypothesis: Regardless of run time, all movies earn the same revenue.\n",
    "\n",
    "Alternate Hypothesis:Movies with a run time of 2.5 hours earn more than movies with a run time of 1.5 hours.\n",
    "\n",
    "alpha= 0.05"
   ]
  },
  {
   "cell_type": "markdown",
   "id": "fcac243b",
   "metadata": {},
   "source": [
    "## Choose the appropriate hypothesis test"
   ]
  },
  {
   "cell_type": "markdown",
   "id": "5b514d10",
   "metadata": {},
   "source": [
    "1. Numeric Quantity\n",
    "\n",
    "2. Comparing 2 groups\n",
    "\n",
    "3. 2-sample T-test: independent t-test"
   ]
  },
  {
   "cell_type": "markdown",
   "id": "1b3f2185",
   "metadata": {},
   "source": [
    "## Check and address the assumptions for the test"
   ]
  },
  {
   "cell_type": "markdown",
   "id": "667b3995",
   "metadata": {},
   "source": [
    "1. No significant outliers\n",
    "\n",
    "2. Normality\n",
    "\n",
    "3. Equal Variance"
   ]
  },
  {
   "cell_type": "code",
   "execution_count": 40,
   "id": "4f2e0ede",
   "metadata": {},
   "outputs": [
    {
     "data": {
      "text/html": [
       "<div>\n",
       "<style scoped>\n",
       "    .dataframe tbody tr th:only-of-type {\n",
       "        vertical-align: middle;\n",
       "    }\n",
       "\n",
       "    .dataframe tbody tr th {\n",
       "        vertical-align: top;\n",
       "    }\n",
       "\n",
       "    .dataframe thead th {\n",
       "        text-align: right;\n",
       "    }\n",
       "</style>\n",
       "<table border=\"1\" class=\"dataframe\">\n",
       "  <thead>\n",
       "    <tr style=\"text-align: right;\">\n",
       "      <th></th>\n",
       "      <th>adult</th>\n",
       "      <th>backdrop_path</th>\n",
       "      <th>belongs_to_collection</th>\n",
       "      <th>budget</th>\n",
       "      <th>genres</th>\n",
       "      <th>homepage</th>\n",
       "      <th>id</th>\n",
       "      <th>original_language</th>\n",
       "      <th>original_title</th>\n",
       "      <th>overview</th>\n",
       "      <th>...</th>\n",
       "      <th>revenue</th>\n",
       "      <th>runtime</th>\n",
       "      <th>spoken_languages</th>\n",
       "      <th>status</th>\n",
       "      <th>tagline</th>\n",
       "      <th>title</th>\n",
       "      <th>video</th>\n",
       "      <th>vote_average</th>\n",
       "      <th>vote_count</th>\n",
       "      <th>certification</th>\n",
       "    </tr>\n",
       "  </thead>\n",
       "  <tbody>\n",
       "    <tr>\n",
       "      <th>0</th>\n",
       "      <td>NaN</td>\n",
       "      <td>NaN</td>\n",
       "      <td>NaN</td>\n",
       "      <td>NaN</td>\n",
       "      <td>NaN</td>\n",
       "      <td>NaN</td>\n",
       "      <td>NaN</td>\n",
       "      <td>NaN</td>\n",
       "      <td>NaN</td>\n",
       "      <td>NaN</td>\n",
       "      <td>...</td>\n",
       "      <td>NaN</td>\n",
       "      <td>NaN</td>\n",
       "      <td>NaN</td>\n",
       "      <td>NaN</td>\n",
       "      <td>NaN</td>\n",
       "      <td>NaN</td>\n",
       "      <td>NaN</td>\n",
       "      <td>NaN</td>\n",
       "      <td>NaN</td>\n",
       "      <td>NaN</td>\n",
       "    </tr>\n",
       "    <tr>\n",
       "      <th>1</th>\n",
       "      <td>0.0</td>\n",
       "      <td>/vMFs7nw6P0bIV1jDsQpxAieAVnH.jpg</td>\n",
       "      <td>NaN</td>\n",
       "      <td>10000000.0</td>\n",
       "      <td>[{'id': 35, 'name': 'Comedy'}, {'id': 10402, '...</td>\n",
       "      <td>NaN</td>\n",
       "      <td>62127.0</td>\n",
       "      <td>en</td>\n",
       "      <td>The Fantasticks</td>\n",
       "      <td>Two rural teens sing and dance their way throu...</td>\n",
       "      <td>...</td>\n",
       "      <td>0.0</td>\n",
       "      <td>86.0</td>\n",
       "      <td>[{'english_name': 'English', 'iso_639_1': 'en'...</td>\n",
       "      <td>Released</td>\n",
       "      <td>Try to remember the first time magic happened</td>\n",
       "      <td>The Fantasticks</td>\n",
       "      <td>0.0</td>\n",
       "      <td>5.50</td>\n",
       "      <td>22.0</td>\n",
       "      <td>NaN</td>\n",
       "    </tr>\n",
       "    <tr>\n",
       "      <th>2</th>\n",
       "      <td>0.0</td>\n",
       "      <td>NaN</td>\n",
       "      <td>NaN</td>\n",
       "      <td>0.0</td>\n",
       "      <td>[{'id': 878, 'name': 'Science Fiction'}]</td>\n",
       "      <td>NaN</td>\n",
       "      <td>110977.0</td>\n",
       "      <td>en</td>\n",
       "      <td>For the Cause</td>\n",
       "      <td>Earth is in a state of constant war and two co...</td>\n",
       "      <td>...</td>\n",
       "      <td>0.0</td>\n",
       "      <td>100.0</td>\n",
       "      <td>[{'english_name': 'English', 'iso_639_1': 'en'...</td>\n",
       "      <td>Released</td>\n",
       "      <td>The ultimate showdown on a forbidden planet.</td>\n",
       "      <td>For the Cause</td>\n",
       "      <td>0.0</td>\n",
       "      <td>5.45</td>\n",
       "      <td>10.0</td>\n",
       "      <td>NaN</td>\n",
       "    </tr>\n",
       "    <tr>\n",
       "      <th>3</th>\n",
       "      <td>0.0</td>\n",
       "      <td>NaN</td>\n",
       "      <td>NaN</td>\n",
       "      <td>0.0</td>\n",
       "      <td>[{'id': 18, 'name': 'Drama'}, {'id': 28, 'name...</td>\n",
       "      <td>NaN</td>\n",
       "      <td>442869.0</td>\n",
       "      <td>hi</td>\n",
       "      <td>Gang</td>\n",
       "      <td>After falling prey to underworld, four friends...</td>\n",
       "      <td>...</td>\n",
       "      <td>0.0</td>\n",
       "      <td>152.0</td>\n",
       "      <td>[{'english_name': 'Hindi', 'iso_639_1': 'hi', ...</td>\n",
       "      <td>Released</td>\n",
       "      <td>NaN</td>\n",
       "      <td>Gang</td>\n",
       "      <td>0.0</td>\n",
       "      <td>4.00</td>\n",
       "      <td>1.0</td>\n",
       "      <td>NaN</td>\n",
       "    </tr>\n",
       "    <tr>\n",
       "      <th>4</th>\n",
       "      <td>0.0</td>\n",
       "      <td>/n4GJFGzsc7NinI1VeGDXIcQjtU2.jpg</td>\n",
       "      <td>NaN</td>\n",
       "      <td>150000.0</td>\n",
       "      <td>[{'id': 18, 'name': 'Drama'}, {'id': 10749, 'n...</td>\n",
       "      <td>NaN</td>\n",
       "      <td>843.0</td>\n",
       "      <td>cn</td>\n",
       "      <td>花樣年華</td>\n",
       "      <td>Two neighbors become intimate after discoverin...</td>\n",
       "      <td>...</td>\n",
       "      <td>14204632.0</td>\n",
       "      <td>99.0</td>\n",
       "      <td>[{'english_name': 'Cantonese', 'iso_639_1': 'c...</td>\n",
       "      <td>Released</td>\n",
       "      <td>Feel the heat, keep the feeling burning, let t...</td>\n",
       "      <td>In the Mood for Love</td>\n",
       "      <td>0.0</td>\n",
       "      <td>8.11</td>\n",
       "      <td>2282.0</td>\n",
       "      <td>PG</td>\n",
       "    </tr>\n",
       "  </tbody>\n",
       "</table>\n",
       "<p>5 rows × 25 columns</p>\n",
       "</div>"
      ],
      "text/plain": [
       "   adult                     backdrop_path belongs_to_collection      budget  \\\n",
       "0    NaN                               NaN                   NaN         NaN   \n",
       "1    0.0  /vMFs7nw6P0bIV1jDsQpxAieAVnH.jpg                   NaN  10000000.0   \n",
       "2    0.0                               NaN                   NaN         0.0   \n",
       "3    0.0                               NaN                   NaN         0.0   \n",
       "4    0.0  /n4GJFGzsc7NinI1VeGDXIcQjtU2.jpg                   NaN    150000.0   \n",
       "\n",
       "                                              genres homepage        id  \\\n",
       "0                                                NaN      NaN       NaN   \n",
       "1  [{'id': 35, 'name': 'Comedy'}, {'id': 10402, '...      NaN   62127.0   \n",
       "2           [{'id': 878, 'name': 'Science Fiction'}]      NaN  110977.0   \n",
       "3  [{'id': 18, 'name': 'Drama'}, {'id': 28, 'name...      NaN  442869.0   \n",
       "4  [{'id': 18, 'name': 'Drama'}, {'id': 10749, 'n...      NaN     843.0   \n",
       "\n",
       "  original_language   original_title  \\\n",
       "0               NaN              NaN   \n",
       "1                en  The Fantasticks   \n",
       "2                en    For the Cause   \n",
       "3                hi             Gang   \n",
       "4                cn             花樣年華   \n",
       "\n",
       "                                            overview  ...     revenue runtime  \\\n",
       "0                                                NaN  ...         NaN     NaN   \n",
       "1  Two rural teens sing and dance their way throu...  ...         0.0    86.0   \n",
       "2  Earth is in a state of constant war and two co...  ...         0.0   100.0   \n",
       "3  After falling prey to underworld, four friends...  ...         0.0   152.0   \n",
       "4  Two neighbors become intimate after discoverin...  ...  14204632.0    99.0   \n",
       "\n",
       "                                    spoken_languages    status  \\\n",
       "0                                                NaN       NaN   \n",
       "1  [{'english_name': 'English', 'iso_639_1': 'en'...  Released   \n",
       "2  [{'english_name': 'English', 'iso_639_1': 'en'...  Released   \n",
       "3  [{'english_name': 'Hindi', 'iso_639_1': 'hi', ...  Released   \n",
       "4  [{'english_name': 'Cantonese', 'iso_639_1': 'c...  Released   \n",
       "\n",
       "                                             tagline                 title  \\\n",
       "0                                                NaN                   NaN   \n",
       "1      Try to remember the first time magic happened       The Fantasticks   \n",
       "2       The ultimate showdown on a forbidden planet.         For the Cause   \n",
       "3                                                NaN                  Gang   \n",
       "4  Feel the heat, keep the feeling burning, let t...  In the Mood for Love   \n",
       "\n",
       "   video vote_average vote_count certification  \n",
       "0    NaN          NaN        NaN           NaN  \n",
       "1    0.0         5.50       22.0           NaN  \n",
       "2    0.0         5.45       10.0           NaN  \n",
       "3    0.0         4.00        1.0           NaN  \n",
       "4    0.0         8.11     2282.0            PG  \n",
       "\n",
       "[5 rows x 25 columns]"
      ]
     },
     "execution_count": 40,
     "metadata": {},
     "output_type": "execute_result"
    }
   ],
   "source": [
    "df_combinedhr = pd.read_csv(final_fname)\n",
    "df_combinedhr.head()"
   ]
  },
  {
   "cell_type": "code",
   "execution_count": 41,
   "id": "65cce5dd",
   "metadata": {},
   "outputs": [
    {
     "data": {
      "text/html": [
       "<div>\n",
       "<style scoped>\n",
       "    .dataframe tbody tr th:only-of-type {\n",
       "        vertical-align: middle;\n",
       "    }\n",
       "\n",
       "    .dataframe tbody tr th {\n",
       "        vertical-align: top;\n",
       "    }\n",
       "\n",
       "    .dataframe thead th {\n",
       "        text-align: right;\n",
       "    }\n",
       "</style>\n",
       "<table border=\"1\" class=\"dataframe\">\n",
       "  <thead>\n",
       "    <tr style=\"text-align: right;\">\n",
       "      <th></th>\n",
       "      <th>revenue</th>\n",
       "      <th>runtime</th>\n",
       "    </tr>\n",
       "  </thead>\n",
       "  <tbody>\n",
       "    <tr>\n",
       "      <th>1</th>\n",
       "      <td>0.0</td>\n",
       "      <td>86.0</td>\n",
       "    </tr>\n",
       "    <tr>\n",
       "      <th>2</th>\n",
       "      <td>0.0</td>\n",
       "      <td>100.0</td>\n",
       "    </tr>\n",
       "    <tr>\n",
       "      <th>3</th>\n",
       "      <td>0.0</td>\n",
       "      <td>152.0</td>\n",
       "    </tr>\n",
       "    <tr>\n",
       "      <th>4</th>\n",
       "      <td>14204632.0</td>\n",
       "      <td>99.0</td>\n",
       "    </tr>\n",
       "    <tr>\n",
       "      <th>5</th>\n",
       "      <td>0.0</td>\n",
       "      <td>99.0</td>\n",
       "    </tr>\n",
       "  </tbody>\n",
       "</table>\n",
       "</div>"
      ],
      "text/plain": [
       "      revenue  runtime\n",
       "1         0.0     86.0\n",
       "2         0.0    100.0\n",
       "3         0.0    152.0\n",
       "4  14204632.0     99.0\n",
       "5         0.0     99.0"
      ]
     },
     "execution_count": 41,
     "metadata": {},
     "output_type": "execute_result"
    }
   ],
   "source": [
    "df_combinedhr = df_combinedhr[['revenue', 'runtime']]\n",
    "df_combinedhr = df_combinedhr.dropna(subset = 'runtime')\n",
    "df_combinedhr.head()"
   ]
  },
  {
   "cell_type": "code",
   "execution_count": 42,
   "id": "e4942440",
   "metadata": {},
   "outputs": [],
   "source": [
    "## filter the movies with runtime >2.5 hours and <1.5 hours\n",
    "movie25 = df_combinedhr.loc[df_combinedhr['runtime']>150]\n",
    "movie15 = df_combinedhr.loc[df_combinedhr['runtime']<90]"
   ]
  },
  {
   "cell_type": "code",
   "execution_count": 43,
   "id": "c1a1923f",
   "metadata": {},
   "outputs": [
    {
     "data": {
      "text/plain": [
       "(218, 2)"
      ]
     },
     "execution_count": 43,
     "metadata": {},
     "output_type": "execute_result"
    }
   ],
   "source": [
    "movie25.shape"
   ]
  },
  {
   "cell_type": "code",
   "execution_count": 44,
   "id": "00e0ee60",
   "metadata": {},
   "outputs": [
    {
     "data": {
      "text/html": [
       "<div>\n",
       "<style scoped>\n",
       "    .dataframe tbody tr th:only-of-type {\n",
       "        vertical-align: middle;\n",
       "    }\n",
       "\n",
       "    .dataframe tbody tr th {\n",
       "        vertical-align: top;\n",
       "    }\n",
       "\n",
       "    .dataframe thead th {\n",
       "        text-align: right;\n",
       "    }\n",
       "</style>\n",
       "<table border=\"1\" class=\"dataframe\">\n",
       "  <thead>\n",
       "    <tr style=\"text-align: right;\">\n",
       "      <th></th>\n",
       "      <th>revenue</th>\n",
       "      <th>runtime</th>\n",
       "    </tr>\n",
       "  </thead>\n",
       "  <tbody>\n",
       "    <tr>\n",
       "      <th>3</th>\n",
       "      <td>0.0</td>\n",
       "      <td>152.0</td>\n",
       "    </tr>\n",
       "    <tr>\n",
       "      <th>44</th>\n",
       "      <td>0.0</td>\n",
       "      <td>171.0</td>\n",
       "    </tr>\n",
       "    <tr>\n",
       "      <th>61</th>\n",
       "      <td>15000000.0</td>\n",
       "      <td>157.0</td>\n",
       "    </tr>\n",
       "    <tr>\n",
       "      <th>156</th>\n",
       "      <td>465361176.0</td>\n",
       "      <td>155.0</td>\n",
       "    </tr>\n",
       "    <tr>\n",
       "      <th>239</th>\n",
       "      <td>215294342.0</td>\n",
       "      <td>165.0</td>\n",
       "    </tr>\n",
       "  </tbody>\n",
       "</table>\n",
       "</div>"
      ],
      "text/plain": [
       "         revenue  runtime\n",
       "3            0.0    152.0\n",
       "44           0.0    171.0\n",
       "61    15000000.0    157.0\n",
       "156  465361176.0    155.0\n",
       "239  215294342.0    165.0"
      ]
     },
     "execution_count": 44,
     "metadata": {},
     "output_type": "execute_result"
    }
   ],
   "source": [
    "df_combinedhr = pd.concat([movie25, movie15], axis=0)\n",
    "df_combinedhr.head()"
   ]
  },
  {
   "cell_type": "code",
   "execution_count": 45,
   "id": "9ac2271f",
   "metadata": {},
   "outputs": [
    {
     "data": {
      "text/html": [
       "<div>\n",
       "<style scoped>\n",
       "    .dataframe tbody tr th:only-of-type {\n",
       "        vertical-align: middle;\n",
       "    }\n",
       "\n",
       "    .dataframe tbody tr th {\n",
       "        vertical-align: top;\n",
       "    }\n",
       "\n",
       "    .dataframe thead th {\n",
       "        text-align: right;\n",
       "    }\n",
       "</style>\n",
       "<table border=\"1\" class=\"dataframe\">\n",
       "  <thead>\n",
       "    <tr style=\"text-align: right;\">\n",
       "      <th></th>\n",
       "      <th>revenue</th>\n",
       "      <th>runtime</th>\n",
       "      <th>longer movie</th>\n",
       "    </tr>\n",
       "  </thead>\n",
       "  <tbody>\n",
       "    <tr>\n",
       "      <th>3</th>\n",
       "      <td>0.0</td>\n",
       "      <td>152.0</td>\n",
       "      <td>True</td>\n",
       "    </tr>\n",
       "    <tr>\n",
       "      <th>44</th>\n",
       "      <td>0.0</td>\n",
       "      <td>171.0</td>\n",
       "      <td>True</td>\n",
       "    </tr>\n",
       "    <tr>\n",
       "      <th>61</th>\n",
       "      <td>15000000.0</td>\n",
       "      <td>157.0</td>\n",
       "      <td>True</td>\n",
       "    </tr>\n",
       "    <tr>\n",
       "      <th>156</th>\n",
       "      <td>465361176.0</td>\n",
       "      <td>155.0</td>\n",
       "      <td>True</td>\n",
       "    </tr>\n",
       "    <tr>\n",
       "      <th>239</th>\n",
       "      <td>215294342.0</td>\n",
       "      <td>165.0</td>\n",
       "      <td>True</td>\n",
       "    </tr>\n",
       "  </tbody>\n",
       "</table>\n",
       "</div>"
      ],
      "text/plain": [
       "         revenue  runtime  longer movie\n",
       "3            0.0    152.0          True\n",
       "44           0.0    171.0          True\n",
       "61    15000000.0    157.0          True\n",
       "156  465361176.0    155.0          True\n",
       "239  215294342.0    165.0          True"
      ]
     },
     "execution_count": 45,
     "metadata": {},
     "output_type": "execute_result"
    }
   ],
   "source": [
    "df_combinedhr['longer movie']=df_combinedhr['runtime']>150\n",
    "df_combinedhr.head()"
   ]
  },
  {
   "cell_type": "code",
   "execution_count": 48,
   "id": "9cf56c8e",
   "metadata": {},
   "outputs": [
    {
     "data": {
      "text/plain": [
       "False    4159\n",
       "True      218\n",
       "Name: longer movie, dtype: int64"
      ]
     },
     "execution_count": 48,
     "metadata": {},
     "output_type": "execute_result"
    }
   ],
   "source": [
    "df_combinedhr['longer movie'].value_counts()"
   ]
  },
  {
   "cell_type": "code",
   "execution_count": 50,
   "id": "e20ab992",
   "metadata": {},
   "outputs": [
    {
     "data": {
      "image/png": "[encoded data removed]",
      "text/plain": [
       "<Figure size 640x480 with 1 Axes>"
      ]
     },
     "metadata": {},
     "output_type": "display_data"
    }
   ],
   "source": [
    "sns.barplot(data=df_combinedhr, x='longer movie', y='revenue', ci=68);"
   ]
  },
  {
   "cell_type": "code",
   "execution_count": 51,
   "id": "b893843d",
   "metadata": {},
   "outputs": [
    {
     "data": {
      "text/plain": [
       "3              0.0\n",
       "44             0.0\n",
       "61      15000000.0\n",
       "156    465361176.0\n",
       "239    215294342.0\n",
       "Name: revenue, dtype: float64"
      ]
     },
     "execution_count": 51,
     "metadata": {},
     "output_type": "execute_result"
    }
   ],
   "source": [
    "movie25_rev = movie25['revenue']\n",
    "movie25_rev.head()"
   ]
  },
  {
   "cell_type": "code",
   "execution_count": 52,
   "id": "d8bf8eb6",
   "metadata": {},
   "outputs": [
    {
     "data": {
      "text/plain": [
       "1             0.0\n",
       "6             0.0\n",
       "7             0.0\n",
       "11        14904.0\n",
       "13    224834564.0\n",
       "Name: revenue, dtype: float64"
      ]
     },
     "execution_count": 52,
     "metadata": {},
     "output_type": "execute_result"
    }
   ],
   "source": [
    "movie15_rev = movie15['revenue']\n",
    "movie15_rev.head()"
   ]
  },
  {
   "cell_type": "markdown",
   "id": "59a0d2f8",
   "metadata": {},
   "source": [
    "Since groups have n>15 we can ignore the assumption of normality"
   ]
  },
  {
   "cell_type": "code",
   "execution_count": 53,
   "id": "8b038dfd",
   "metadata": {},
   "outputs": [
    {
     "data": {
      "text/plain": [
       "4"
      ]
     },
     "execution_count": 53,
     "metadata": {},
     "output_type": "execute_result"
    }
   ],
   "source": [
    "movie25_out = np.abs(stats.zscore(movie25_rev))>3\n",
    "movie25_out.sum()"
   ]
  },
  {
   "cell_type": "code",
   "execution_count": 54,
   "id": "4960ad12",
   "metadata": {},
   "outputs": [
    {
     "data": {
      "text/plain": [
       "3                0.0\n",
       "44               0.0\n",
       "61        15000000.0\n",
       "239      215294342.0\n",
       "375              0.0\n",
       "            ...     \n",
       "11056     28859072.0\n",
       "11096            0.0\n",
       "11126            0.0\n",
       "11183            0.0\n",
       "11192            0.0\n",
       "Name: revenue, Length: 214, dtype: float64"
      ]
     },
     "execution_count": 54,
     "metadata": {},
     "output_type": "execute_result"
    }
   ],
   "source": [
    "movie25_rev = movie25_rev.loc[~movie25_out]\n",
    "movie25_rev"
   ]
  },
  {
   "cell_type": "code",
   "execution_count": 55,
   "id": "e67b769b",
   "metadata": {},
   "outputs": [
    {
     "data": {
      "text/plain": [
       "31"
      ]
     },
     "execution_count": 55,
     "metadata": {},
     "output_type": "execute_result"
    }
   ],
   "source": [
    "movie15_out = np.abs(stats.zscore(movie15_rev))>3\n",
    "movie15_out.sum()"
   ]
  },
  {
   "cell_type": "code",
   "execution_count": 56,
   "id": "699ab022",
   "metadata": {},
   "outputs": [
    {
     "data": {
      "text/plain": [
       "1             0.0\n",
       "6             0.0\n",
       "7             0.0\n",
       "11        14904.0\n",
       "15            0.0\n",
       "           ...   \n",
       "11220         0.0\n",
       "11224         0.0\n",
       "11231         0.0\n",
       "11235    236880.0\n",
       "11238         0.0\n",
       "Name: revenue, Length: 4128, dtype: float64"
      ]
     },
     "execution_count": 56,
     "metadata": {},
     "output_type": "execute_result"
    }
   ],
   "source": [
    "movie15_rev = movie15_rev.loc[~movie15_out]\n",
    "movie15_rev"
   ]
  },
  {
   "cell_type": "code",
   "execution_count": 57,
   "id": "d77f18be",
   "metadata": {},
   "outputs": [
    {
     "name": "stdout",
     "output_type": "stream",
     "text": [
      "LeveneResult(statistic=134.6560987784969, pvalue=1.1092134644805952e-30)\n",
      "True\n"
     ]
    }
   ],
   "source": [
    "result = stats.levene(movie25_rev, movie15_rev)\n",
    "print(result)\n",
    "print(result.pvalue<.05)"
   ]
  },
  {
   "cell_type": "markdown",
   "id": "931081cb",
   "metadata": {},
   "source": [
    "The p value score is less than 0.05 so I reject the null hyposthesis because the groups do not have equal variance.\n",
    "\n",
    "I will use Welch's T-Test"
   ]
  },
  {
   "cell_type": "code",
   "execution_count": 58,
   "id": "3b287d7f",
   "metadata": {},
   "outputs": [
    {
     "name": "stdout",
     "output_type": "stream",
     "text": [
      "Ttest_indResult(statistic=2.7937912583605646, pvalue=0.005684027417121232)\n"
     ]
    },
    {
     "data": {
      "text/plain": [
       "True"
      ]
     },
     "execution_count": 58,
     "metadata": {},
     "output_type": "execute_result"
    }
   ],
   "source": [
    "test_result = stats.ttest_ind(movie25_rev, movie15_rev, equal_var=False)\n",
    "print(test_result)\n",
    "test_result.pvalue < .05"
   ]
  },
  {
   "cell_type": "markdown",
   "id": "a20a06e9",
   "metadata": {},
   "source": [
    "This test shows a score of less than 0.05 so we reject the null hypothesis and support the alternative hypothesis which states movies with a run time of 2.5 hours earn more than movies with a run time of 1.5 hours."
   ]
  },
  {
   "cell_type": "code",
   "execution_count": 59,
   "id": "faf2e995",
   "metadata": {},
   "outputs": [
    {
     "name": "stdout",
     "output_type": "stream",
     "text": [
      " The averge revenue of movies that longer than 2.5 hours was 4221103.21\n",
      " The averge revenue of movies that shorter than 1.5 hours was 158391.86\n"
     ]
    }
   ],
   "source": [
    "print(f\" The averge revenue of movies that longer than 2.5 hours was {movie25_rev.mean():.2f}\")\n",
    "print(f\" The averge revenue of movies that shorter than 1.5 hours was {movie15_rev.mean():.2f}\")"
   ]
  },
  {
   "cell_type": "markdown",
   "id": "9c4880ab",
   "metadata": {},
   "source": [
    "## Conclusion"
   ]
  },
  {
   "cell_type": "markdown",
   "id": "2475d422",
   "metadata": {},
   "source": [
    "Movies that are 2.5 hours long earn way more on average than movies that are 1.5 hours long."
   ]
  },
  {
   "cell_type": "markdown",
   "id": "2d7c71fe",
   "metadata": {},
   "source": [
    "# The Third Test\n",
    "\n",
    "### Do movies released in 2020 earn less revenue than movies released in 2018?"
   ]
  },
  {
   "cell_type": "markdown",
   "id": "08891a54",
   "metadata": {},
   "source": [
    "## State the null and alternative hypotheses."
   ]
  },
  {
   "cell_type": "markdown",
   "id": "b86be0e2",
   "metadata": {},
   "source": [
    "Null Hypothesis: Movies in both years earned the same in revenue.\n",
    "\n",
    "Alternate Hypothesis:Movies that were released in 2020 earned less revenue than movies in 2018.\n",
    "\n",
    "alpha= 0.05"
   ]
  },
  {
   "cell_type": "markdown",
   "id": "35e871e6",
   "metadata": {},
   "source": [
    "## Choose the appropriate hypothesis test"
   ]
  },
  {
   "cell_type": "markdown",
   "id": "abb2bf25",
   "metadata": {},
   "source": [
    "1. Numeric Quantity\n",
    "\n",
    "2. Comparing 2 groups\n",
    "\n",
    "3. 2-sample T-test: independent t-test"
   ]
  },
  {
   "cell_type": "markdown",
   "id": "51707c8f",
   "metadata": {},
   "source": [
    "## Check and address the assumptions for the test"
   ]
  },
  {
   "cell_type": "markdown",
   "id": "6e079f97",
   "metadata": {},
   "source": [
    "1. No significant outliers\n",
    "\n",
    "2. Normality\n",
    "\n",
    "3. Equal Variance"
   ]
  },
  {
   "cell_type": "code",
   "execution_count": 60,
   "id": "88296c46",
   "metadata": {},
   "outputs": [],
   "source": [
    "df_combinedyr = pd.read_csv(final_fname)"
   ]
  },
  {
   "cell_type": "code",
   "execution_count": 61,
   "id": "6060788c",
   "metadata": {},
   "outputs": [
    {
     "data": {
      "text/html": [
       "<div>\n",
       "<style scoped>\n",
       "    .dataframe tbody tr th:only-of-type {\n",
       "        vertical-align: middle;\n",
       "    }\n",
       "\n",
       "    .dataframe tbody tr th {\n",
       "        vertical-align: top;\n",
       "    }\n",
       "\n",
       "    .dataframe thead th {\n",
       "        text-align: right;\n",
       "    }\n",
       "</style>\n",
       "<table border=\"1\" class=\"dataframe\">\n",
       "  <thead>\n",
       "    <tr style=\"text-align: right;\">\n",
       "      <th></th>\n",
       "      <th>revenue</th>\n",
       "      <th>release_date</th>\n",
       "    </tr>\n",
       "  </thead>\n",
       "  <tbody>\n",
       "    <tr>\n",
       "      <th>1</th>\n",
       "      <td>0.0</td>\n",
       "      <td>2000-09-22</td>\n",
       "    </tr>\n",
       "    <tr>\n",
       "      <th>2</th>\n",
       "      <td>0.0</td>\n",
       "      <td>2000-11-15</td>\n",
       "    </tr>\n",
       "    <tr>\n",
       "      <th>3</th>\n",
       "      <td>0.0</td>\n",
       "      <td>2000-04-14</td>\n",
       "    </tr>\n",
       "    <tr>\n",
       "      <th>4</th>\n",
       "      <td>14204632.0</td>\n",
       "      <td>2000-09-29</td>\n",
       "    </tr>\n",
       "    <tr>\n",
       "      <th>5</th>\n",
       "      <td>0.0</td>\n",
       "      <td>2000-09-02</td>\n",
       "    </tr>\n",
       "  </tbody>\n",
       "</table>\n",
       "</div>"
      ],
      "text/plain": [
       "      revenue release_date\n",
       "1         0.0   2000-09-22\n",
       "2         0.0   2000-11-15\n",
       "3         0.0   2000-04-14\n",
       "4  14204632.0   2000-09-29\n",
       "5         0.0   2000-09-02"
      ]
     },
     "execution_count": 61,
     "metadata": {},
     "output_type": "execute_result"
    }
   ],
   "source": [
    "df_combinedyr = df_combinedyr[['revenue', 'release_date']]\n",
    "df_combinedyr = df_combinedyr.dropna(subset = 'release_date')\n",
    "df_combinedyr.head()"
   ]
  },
  {
   "cell_type": "code",
   "execution_count": 62,
   "id": "a52723aa",
   "metadata": {},
   "outputs": [
    {
     "data": {
      "text/html": [
       "<div>\n",
       "<style scoped>\n",
       "    .dataframe tbody tr th:only-of-type {\n",
       "        vertical-align: middle;\n",
       "    }\n",
       "\n",
       "    .dataframe tbody tr th {\n",
       "        vertical-align: top;\n",
       "    }\n",
       "\n",
       "    .dataframe thead th {\n",
       "        text-align: right;\n",
       "    }\n",
       "</style>\n",
       "<table border=\"1\" class=\"dataframe\">\n",
       "  <thead>\n",
       "    <tr style=\"text-align: right;\">\n",
       "      <th></th>\n",
       "      <th>revenue</th>\n",
       "      <th>release_date</th>\n",
       "    </tr>\n",
       "  </thead>\n",
       "  <tbody>\n",
       "    <tr>\n",
       "      <th>2595</th>\n",
       "      <td>0.0</td>\n",
       "      <td>2018-11-02</td>\n",
       "    </tr>\n",
       "    <tr>\n",
       "      <th>2596</th>\n",
       "      <td>0.0</td>\n",
       "      <td>2018-11-06</td>\n",
       "    </tr>\n",
       "    <tr>\n",
       "      <th>2597</th>\n",
       "      <td>0.0</td>\n",
       "      <td>2018-05-12</td>\n",
       "    </tr>\n",
       "    <tr>\n",
       "      <th>2598</th>\n",
       "      <td>0.0</td>\n",
       "      <td>2018-09-21</td>\n",
       "    </tr>\n",
       "    <tr>\n",
       "      <th>2600</th>\n",
       "      <td>18850674.0</td>\n",
       "      <td>2018-04-19</td>\n",
       "    </tr>\n",
       "  </tbody>\n",
       "</table>\n",
       "</div>"
      ],
      "text/plain": [
       "         revenue release_date\n",
       "2595         0.0   2018-11-02\n",
       "2596         0.0   2018-11-06\n",
       "2597         0.0   2018-05-12\n",
       "2598         0.0   2018-09-21\n",
       "2600  18850674.0   2018-04-19"
      ]
     },
     "execution_count": 62,
     "metadata": {},
     "output_type": "execute_result"
    }
   ],
   "source": [
    "import datetime as dt\n",
    "df_combinedyr['release_date'] = pd.to_datetime(df_combinedyr['release_date'])\n",
    "movie2018 = df_combinedyr[df_combinedyr['release_date'].dt.strftime('%Y') == '2018']\n",
    "movie2018.head()"
   ]
  },
  {
   "cell_type": "code",
   "execution_count": 63,
   "id": "f9693900",
   "metadata": {},
   "outputs": [
    {
     "data": {
      "text/html": [
       "<div>\n",
       "<style scoped>\n",
       "    .dataframe tbody tr th:only-of-type {\n",
       "        vertical-align: middle;\n",
       "    }\n",
       "\n",
       "    .dataframe tbody tr th {\n",
       "        vertical-align: top;\n",
       "    }\n",
       "\n",
       "    .dataframe thead th {\n",
       "        text-align: right;\n",
       "    }\n",
       "</style>\n",
       "<table border=\"1\" class=\"dataframe\">\n",
       "  <thead>\n",
       "    <tr style=\"text-align: right;\">\n",
       "      <th></th>\n",
       "      <th>revenue</th>\n",
       "      <th>release_date</th>\n",
       "    </tr>\n",
       "  </thead>\n",
       "  <tbody>\n",
       "    <tr>\n",
       "      <th>2696</th>\n",
       "      <td>0.0</td>\n",
       "      <td>2020-03-19</td>\n",
       "    </tr>\n",
       "    <tr>\n",
       "      <th>2729</th>\n",
       "      <td>0.0</td>\n",
       "      <td>2020-05-21</td>\n",
       "    </tr>\n",
       "    <tr>\n",
       "      <th>2743</th>\n",
       "      <td>0.0</td>\n",
       "      <td>2020-05-18</td>\n",
       "    </tr>\n",
       "    <tr>\n",
       "      <th>2758</th>\n",
       "      <td>0.0</td>\n",
       "      <td>2020-02-11</td>\n",
       "    </tr>\n",
       "    <tr>\n",
       "      <th>2974</th>\n",
       "      <td>0.0</td>\n",
       "      <td>2020-02-21</td>\n",
       "    </tr>\n",
       "  </tbody>\n",
       "</table>\n",
       "</div>"
      ],
      "text/plain": [
       "      revenue release_date\n",
       "2696      0.0   2020-03-19\n",
       "2729      0.0   2020-05-21\n",
       "2743      0.0   2020-05-18\n",
       "2758      0.0   2020-02-11\n",
       "2974      0.0   2020-02-21"
      ]
     },
     "execution_count": 63,
     "metadata": {},
     "output_type": "execute_result"
    }
   ],
   "source": [
    "movie2020 = df_combinedyr[df_combinedyr['release_date'].dt.strftime('%Y') == '2020']\n",
    "movie2020.head()"
   ]
  },
  {
   "cell_type": "code",
   "execution_count": 64,
   "id": "b37c5006",
   "metadata": {},
   "outputs": [
    {
     "data": {
      "text/html": [
       "<div>\n",
       "<style scoped>\n",
       "    .dataframe tbody tr th:only-of-type {\n",
       "        vertical-align: middle;\n",
       "    }\n",
       "\n",
       "    .dataframe tbody tr th {\n",
       "        vertical-align: top;\n",
       "    }\n",
       "\n",
       "    .dataframe thead th {\n",
       "        text-align: right;\n",
       "    }\n",
       "</style>\n",
       "<table border=\"1\" class=\"dataframe\">\n",
       "  <thead>\n",
       "    <tr style=\"text-align: right;\">\n",
       "      <th></th>\n",
       "      <th>revenue</th>\n",
       "      <th>release_date</th>\n",
       "    </tr>\n",
       "  </thead>\n",
       "  <tbody>\n",
       "    <tr>\n",
       "      <th>2595</th>\n",
       "      <td>0.0</td>\n",
       "      <td>2018-11-02</td>\n",
       "    </tr>\n",
       "    <tr>\n",
       "      <th>2596</th>\n",
       "      <td>0.0</td>\n",
       "      <td>2018-11-06</td>\n",
       "    </tr>\n",
       "    <tr>\n",
       "      <th>2597</th>\n",
       "      <td>0.0</td>\n",
       "      <td>2018-05-12</td>\n",
       "    </tr>\n",
       "    <tr>\n",
       "      <th>2598</th>\n",
       "      <td>0.0</td>\n",
       "      <td>2018-09-21</td>\n",
       "    </tr>\n",
       "    <tr>\n",
       "      <th>2600</th>\n",
       "      <td>18850674.0</td>\n",
       "      <td>2018-04-19</td>\n",
       "    </tr>\n",
       "  </tbody>\n",
       "</table>\n",
       "</div>"
      ],
      "text/plain": [
       "         revenue release_date\n",
       "2595         0.0   2018-11-02\n",
       "2596         0.0   2018-11-06\n",
       "2597         0.0   2018-05-12\n",
       "2598         0.0   2018-09-21\n",
       "2600  18850674.0   2018-04-19"
      ]
     },
     "execution_count": 64,
     "metadata": {},
     "output_type": "execute_result"
    }
   ],
   "source": [
    "df_combinedyr = pd.concat([movie2018, movie2020], axis=0)\n",
    "df_combinedyr.head()"
   ]
  },
  {
   "cell_type": "code",
   "execution_count": 65,
   "id": "0c49ca55",
   "metadata": {},
   "outputs": [
    {
     "data": {
      "text/html": [
       "<div>\n",
       "<style scoped>\n",
       "    .dataframe tbody tr th:only-of-type {\n",
       "        vertical-align: middle;\n",
       "    }\n",
       "\n",
       "    .dataframe tbody tr th {\n",
       "        vertical-align: top;\n",
       "    }\n",
       "\n",
       "    .dataframe thead th {\n",
       "        text-align: right;\n",
       "    }\n",
       "</style>\n",
       "<table border=\"1\" class=\"dataframe\">\n",
       "  <thead>\n",
       "    <tr style=\"text-align: right;\">\n",
       "      <th></th>\n",
       "      <th>revenue</th>\n",
       "      <th>release_date</th>\n",
       "      <th>movie</th>\n",
       "    </tr>\n",
       "  </thead>\n",
       "  <tbody>\n",
       "    <tr>\n",
       "      <th>2595</th>\n",
       "      <td>0.0</td>\n",
       "      <td>2018-11-02</td>\n",
       "      <td>True</td>\n",
       "    </tr>\n",
       "    <tr>\n",
       "      <th>2596</th>\n",
       "      <td>0.0</td>\n",
       "      <td>2018-11-06</td>\n",
       "      <td>True</td>\n",
       "    </tr>\n",
       "    <tr>\n",
       "      <th>2597</th>\n",
       "      <td>0.0</td>\n",
       "      <td>2018-05-12</td>\n",
       "      <td>True</td>\n",
       "    </tr>\n",
       "    <tr>\n",
       "      <th>2598</th>\n",
       "      <td>0.0</td>\n",
       "      <td>2018-09-21</td>\n",
       "      <td>True</td>\n",
       "    </tr>\n",
       "    <tr>\n",
       "      <th>2600</th>\n",
       "      <td>18850674.0</td>\n",
       "      <td>2018-04-19</td>\n",
       "      <td>True</td>\n",
       "    </tr>\n",
       "  </tbody>\n",
       "</table>\n",
       "</div>"
      ],
      "text/plain": [
       "         revenue release_date  movie\n",
       "2595         0.0   2018-11-02   True\n",
       "2596         0.0   2018-11-06   True\n",
       "2597         0.0   2018-05-12   True\n",
       "2598         0.0   2018-09-21   True\n",
       "2600  18850674.0   2018-04-19   True"
      ]
     },
     "execution_count": 65,
     "metadata": {},
     "output_type": "execute_result"
    }
   ],
   "source": [
    "df_combinedyr['movie']=df_combinedyr['release_date'].dt.strftime('%Y') == '2018'\n",
    "df_combinedyr.head()"
   ]
  },
  {
   "cell_type": "code",
   "execution_count": 66,
   "id": "39454bfe",
   "metadata": {},
   "outputs": [
    {
     "data": {
      "text/plain": [
       "True     4035\n",
       "False    3353\n",
       "Name: movie, dtype: int64"
      ]
     },
     "execution_count": 66,
     "metadata": {},
     "output_type": "execute_result"
    }
   ],
   "source": [
    "df_combinedyr['movie'].value_counts()"
   ]
  },
  {
   "cell_type": "code",
   "execution_count": 67,
   "id": "88a35c74",
   "metadata": {},
   "outputs": [
    {
     "data": {
      "text/plain": [
       "<AxesSubplot:xlabel='movie', ylabel='revenue'>"
      ]
     },
     "execution_count": 67,
     "metadata": {},
     "output_type": "execute_result"
    },
    {
     "data": {
      "image/png": "[encoded data removed]",
      "text/plain": [
       "<Figure size 640x480 with 1 Axes>"
      ]
     },
     "metadata": {},
     "output_type": "display_data"
    }
   ],
   "source": [
    "sns.barplot(data=df_combinedyr, x='movie', y='revenue', ci=68)"
   ]
  },
  {
   "cell_type": "code",
   "execution_count": 68,
   "id": "e1132ed9",
   "metadata": {},
   "outputs": [
    {
     "data": {
      "text/plain": [
       "2595           0.0\n",
       "2596           0.0\n",
       "2597           0.0\n",
       "2598           0.0\n",
       "2600    18850674.0\n",
       "Name: revenue, dtype: float64"
      ]
     },
     "execution_count": 68,
     "metadata": {},
     "output_type": "execute_result"
    }
   ],
   "source": [
    "movie2018_rev = movie2018['revenue']\n",
    "movie2018_rev.head()"
   ]
  },
  {
   "cell_type": "code",
   "execution_count": 69,
   "id": "5374d21a",
   "metadata": {},
   "outputs": [
    {
     "data": {
      "text/plain": [
       "2696    0.0\n",
       "2729    0.0\n",
       "2743    0.0\n",
       "2758    0.0\n",
       "2974    0.0\n",
       "Name: revenue, dtype: float64"
      ]
     },
     "execution_count": 69,
     "metadata": {},
     "output_type": "execute_result"
    }
   ],
   "source": [
    "movie2020_rev = movie2020['revenue']\n",
    "movie2020_rev.head()"
   ]
  },
  {
   "cell_type": "markdown",
   "id": "2c418bd0",
   "metadata": {},
   "source": [
    "Since groups have n>15 we can ignore the assumption of normality"
   ]
  },
  {
   "cell_type": "code",
   "execution_count": 70,
   "id": "67c6e6b9",
   "metadata": {},
   "outputs": [
    {
     "data": {
      "text/plain": [
       "38"
      ]
     },
     "execution_count": 70,
     "metadata": {},
     "output_type": "execute_result"
    }
   ],
   "source": [
    "movie2018_out = np.abs(stats.zscore(movie2018_rev))>3\n",
    "movie2018_out.sum()"
   ]
  },
  {
   "cell_type": "code",
   "execution_count": 71,
   "id": "d2f3789c",
   "metadata": {},
   "outputs": [
    {
     "data": {
      "text/plain": [
       "2595            0.0\n",
       "2596            0.0\n",
       "2597            0.0\n",
       "2598            0.0\n",
       "2600     18850674.0\n",
       "            ...    \n",
       "10060           0.0\n",
       "10146           0.0\n",
       "10152           0.0\n",
       "10341           0.0\n",
       "10857           0.0\n",
       "Name: revenue, Length: 3997, dtype: float64"
      ]
     },
     "execution_count": 71,
     "metadata": {},
     "output_type": "execute_result"
    }
   ],
   "source": [
    "movie2018_rev = movie2018_rev.loc[~movie2018_out]\n",
    "movie2018_rev"
   ]
  },
  {
   "cell_type": "code",
   "execution_count": 72,
   "id": "e7907334",
   "metadata": {},
   "outputs": [
    {
     "data": {
      "text/plain": [
       "18"
      ]
     },
     "execution_count": 72,
     "metadata": {},
     "output_type": "execute_result"
    }
   ],
   "source": [
    "movie2020_out = np.abs(stats.zscore(movie2020_rev))>3\n",
    "movie2020_out.sum()"
   ]
  },
  {
   "cell_type": "code",
   "execution_count": 73,
   "id": "14dd5616",
   "metadata": {},
   "outputs": [
    {
     "data": {
      "text/plain": [
       "2696     0.0\n",
       "2729     0.0\n",
       "2743     0.0\n",
       "2758     0.0\n",
       "2974     0.0\n",
       "        ... \n",
       "11241    0.0\n",
       "11242    0.0\n",
       "11243    0.0\n",
       "11244    0.0\n",
       "11245    0.0\n",
       "Name: revenue, Length: 3335, dtype: float64"
      ]
     },
     "execution_count": 73,
     "metadata": {},
     "output_type": "execute_result"
    }
   ],
   "source": [
    "movie2020_rev = movie2020_rev.loc[~movie2020_out]\n",
    "movie2020_rev"
   ]
  },
  {
   "cell_type": "code",
   "execution_count": 74,
   "id": "d5d97ccd",
   "metadata": {},
   "outputs": [
    {
     "name": "stdout",
     "output_type": "stream",
     "text": [
      "LeveneResult(statistic=51.413413926155506, pvalue=8.213463550379323e-13)\n",
      "True\n"
     ]
    }
   ],
   "source": [
    "result = stats.levene(movie2018_rev, movie2020_rev)\n",
    "print(result)\n",
    "print(result.pvalue<.05)"
   ]
  },
  {
   "cell_type": "markdown",
   "id": "23b683da",
   "metadata": {},
   "source": [
    "The p value score is less than 0.05 so I reject the null hyposthesis because the groups do not have equal variance.\n",
    "\n",
    "I will use Welch's T-Test"
   ]
  },
  {
   "cell_type": "code",
   "execution_count": 77,
   "id": "7e053dc1",
   "metadata": {},
   "outputs": [
    {
     "name": "stdout",
     "output_type": "stream",
     "text": [
      "Ttest_indResult(statistic=7.763762349287445, pvalue=1.0090038788948561e-14)\n"
     ]
    },
    {
     "data": {
      "text/plain": [
       "True"
      ]
     },
     "execution_count": 77,
     "metadata": {},
     "output_type": "execute_result"
    }
   ],
   "source": [
    "result = stats.ttest_ind(movie2018_rev, movie2020_rev, equal_var=False)\n",
    "print(result)\n",
    "result.pvalue < .05"
   ]
  },
  {
   "cell_type": "markdown",
   "id": "baf73be7",
   "metadata": {},
   "source": [
    "This test shows a score of less than 0.05 so we reject the null hypothesis and support the alternative hypothesis which states movies that were released in 2020 earned less revenue than movies in 2018."
   ]
  },
  {
   "cell_type": "code",
   "execution_count": 78,
   "id": "042db2a4",
   "metadata": {},
   "outputs": [
    {
     "name": "stdout",
     "output_type": "stream",
     "text": [
      " The averge revenue of movies released in 2018 earned was 2304009.61\n",
      " The averge revenue of movies released in 2020 earned was 494097.60\n"
     ]
    }
   ],
   "source": [
    "print(f\" The averge revenue of movies released in 2018 earned was {movie2018_rev.mean():.2f}\")\n",
    "print(f\" The averge revenue of movies released in 2020 earned was {movie2020_rev.mean():.2f}\")"
   ]
  },
  {
   "cell_type": "markdown",
   "id": "933a0270",
   "metadata": {},
   "source": [
    "## Conclusion"
   ]
  },
  {
   "cell_type": "markdown",
   "id": "67fad42a",
   "metadata": {},
   "source": [
    "Movies released in 2018 were more profitable than movies released in 2020."
   ]
  }
 ],
 "metadata": {
  "kernelspec": {
   "display_name": "Python (dojo-env)",
   "language": "python",
   "name": "dojo-env"
  },
  "language_info": {
   "codemirror_mode": {
    "name": "ipython",
    "version": 3
   },
   "file_extension": ".py",
   "mimetype": "text/x-python",
   "name": "python",
   "nbconvert_exporter": "python",
   "pygments_lexer": "ipython3",
   "version": "3.9.15"
  },
  "toc": {
   "base_numbering": 1,
   "nav_menu": {},
   "number_sections": false,
   "sideBar": true,
   "skip_h1_title": false,
   "title_cell": "Table of Contents",
   "title_sidebar": "Contents",
   "toc_cell": false,
   "toc_position": {},
   "toc_section_display": true,
   "toc_window_display": false
  }
 },
 "nbformat": 4,
 "nbformat_minor": 5
}
